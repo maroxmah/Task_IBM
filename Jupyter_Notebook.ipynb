{
 "cells": [
  {
   "cell_type": "markdown",
   "metadata": {},
   "source": [
    "<center>\n",
    "    <img src=\"https://cf-courses-data.s3.us.cloud-object-storage.appdomain.cloud/IBMDeveloperSkillsNetwork-DS0105EN-SkillsNetwork/labs/Module2/images/SN_web_lightmode.png\" width=\"300\" alt=\"cognitiveclass.ai logo\">\n",
    "</center>\n"
   ]
  },
  {
   "cell_type": "markdown",
   "metadata": {},
   "source": [
    "#### Add your code below following the instructions given in the course\n"
   ]
  },
  {
   "cell_type": "markdown",
   "metadata": {
    "tags": []
   },
   "source": [
    "# task jupyter_Notebook"
   ]
  },
  {
   "cell_type": "code",
   "execution_count": null,
   "metadata": {},
   "outputs": [],
   "source": []
  },
  {
   "cell_type": "code",
   "execution_count": null,
   "metadata": {},
   "outputs": [],
   "source": []
  },
  {
   "cell_type": "markdown",
   "metadata": {},
   "source": [
    "# Introduction\n",
    "### this is an introduction for notebook"
   ]
  },
  {
   "cell_type": "code",
   "execution_count": null,
   "metadata": {},
   "outputs": [],
   "source": []
  },
  {
   "cell_type": "code",
   "execution_count": null,
   "metadata": {},
   "outputs": [],
   "source": []
  },
  {
   "cell_type": "markdown",
   "metadata": {},
   "source": [
    "# Data Science Languages\n",
    "\n",
    "* Python\n",
    "* R\n",
    "* SQL\n",
    "* Java\n",
    "* Julia"
   ]
  },
  {
   "cell_type": "code",
   "execution_count": null,
   "metadata": {},
   "outputs": [],
   "source": []
  },
  {
   "cell_type": "markdown",
   "metadata": {},
   "source": [
    "# Popular Data Science Libraries\n",
    "* NumPy: a library for working with numerical data in Python, including support for multi-dimensional arrays, mathematical functions, and linear algebra operations.\n",
    "\n",
    "* Pandas: a library for data manipulation and analysis in Python, providing powerful data structures and tools for working with structured data.\n",
    "\n",
    "* Matplotlib: a plotting library for Python that provides a wide range of high-quality visualizations, including line plots, scatter plots, histograms, and more.\n",
    "\n",
    "* Seaborn: a higher-level visualization library built on top of Matplotlib that makes it easy to create attractive and informative statistical graphics.\n",
    "\n",
    "* Scikit-learn: a machine learning library for Python that provides a wide range of supervised and unsupervised learning algorithms, as well as tools for model selection, evaluation, and preprocessing.\n",
    "\n",
    "* TensorFlow: an open-source machine learning library developed by Google that provides support for building and training deep neural networks.\n",
    "\n",
    "* PyTorch: a machine learning library developed by Facebook that provides support for building and training neural networks, as well as tools for automatic differentiation and optimization.\n",
    "\n",
    "* Keras: a high-level neural network library that provides an easy-to-use interface for building and training deep learning models"
   ]
  },
  {
   "cell_type": "code",
   "execution_count": null,
   "metadata": {},
   "outputs": [],
   "source": []
  },
  {
   "cell_type": "markdown",
   "metadata": {},
   "source": [
    "| Tool | Description |\n",
    "|------|-------------|\n",
    "| Python | A popular programming language used extensively in Data Science for data analysis and machine learning. |\n",
    "| R | A programming language used in Data Science for statistical analysis and visualization. |\n",
    "| SQL | A standard language for managing and manipulating relational databases |"
   ]
  },
  {
   "cell_type": "code",
   "execution_count": null,
   "metadata": {},
   "outputs": [],
   "source": []
  },
  {
   "cell_type": "code",
   "execution_count": null,
   "metadata": {},
   "outputs": [],
   "source": []
  },
  {
   "cell_type": "markdown",
   "metadata": {},
   "source": [
    "* Arithmetic expressions are mathematical statements that use operators such as addition, subtraction, multiplication, and \n",
    "division to perform calculations on numbers. In programming, arithmetic expressions are used extensively for a wide range\n",
    "of applications, from simple calculations to complex \n",
    "mathematical operations.\n",
    "\n",
    "Here are some examples of arithmetic expressions:\n",
    "\n",
    "* 5 + 3: adds the numbers 5 and 3, resulting in 8.\n",
    "* 10 - 4: subtracts the number 4 from 10, resulting in 6.\n",
    "* 6 * 2: multiplies the numbers 6 and 2, resulting in 12.\n",
    "* 20 / 5: divides the number 20 by 5, resulting in 4.\n",
    "* 2 ** 3: raises the number 2 to the power of 3, resulting in 8.\n",
    "* 9 % 4: calculates the remainder of dividing 9 by 4, resulting in 1"
   ]
  },
  {
   "cell_type": "code",
   "execution_count": null,
   "metadata": {},
   "outputs": [],
   "source": []
  },
  {
   "cell_type": "code",
   "execution_count": null,
   "metadata": {},
   "outputs": [],
   "source": []
  },
  {
   "cell_type": "code",
   "execution_count": 1,
   "metadata": {},
   "outputs": [
    {
     "name": "stdout",
     "output_type": "stream",
     "text": [
      "35\n",
      "20\n"
     ]
    }
   ],
   "source": [
    "# multiplication\n",
    "a = 5\n",
    "b = 7\n",
    "c = a * b\n",
    "print(c)  # Output: 35\n",
    "\n",
    "# addition\n",
    "x = 12\n",
    "y = 8\n",
    "z = x + y\n",
    "print(z)  # Output: 20"
   ]
  },
  {
   "cell_type": "code",
   "execution_count": 2,
   "metadata": {},
   "outputs": [
    {
     "name": "stdout",
     "output_type": "stream",
     "text": [
      "2.5\n"
     ]
    }
   ],
   "source": [
    "minutes = 150\n",
    "hours = minutes / 60\n",
    "print(hours) "
   ]
  },
  {
   "cell_type": "code",
   "execution_count": null,
   "metadata": {},
   "outputs": [],
   "source": []
  },
  {
   "cell_type": "markdown",
   "metadata": {},
   "source": [
    "# The objectives of this project are:\n",
    "\n",
    "* To understand the fundamentals of Data Science and its applications.\n",
    "* To learn the tools and technologies used in Data Science, including programming languages, frameworks, and libraries.\n",
    "* To develop skills in data analysis, data visualization, and machine learning.\n",
    "* To gain experience in working with real-world datasets and solving data-related problems.\n",
    "* To build a portfolio of projects that demonstrate proficiency in Data Science and showcase your skills to potential employers.\n",
    "* To collaborate with other Data Science professionals and contribute to the larger Data Science community.\n",
    "* To stay up-to-date with the latest developments and advancements in Data Science and related fields."
   ]
  },
  {
   "cell_type": "code",
   "execution_count": null,
   "metadata": {},
   "outputs": [],
   "source": []
  },
  {
   "cell_type": "code",
   "execution_count": null,
   "metadata": {},
   "outputs": [],
   "source": []
  },
  {
   "cell_type": "markdown",
   "metadata": {},
   "source": [
    "# Author: Mahmoud sorour"
   ]
  },
  {
   "cell_type": "code",
   "execution_count": null,
   "metadata": {},
   "outputs": [],
   "source": []
  }
 ],
 "metadata": {
  "kernelspec": {
   "display_name": "Python",
   "language": "python",
   "name": "conda-env-python-py"
  },
  "language_info": {
   "codemirror_mode": {
    "name": "ipython",
    "version": 3
   },
   "file_extension": ".py",
   "mimetype": "text/x-python",
   "name": "python",
   "nbconvert_exporter": "python",
   "pygments_lexer": "ipython3",
   "version": "3.7.12"
  }
 },
 "nbformat": 4,
 "nbformat_minor": 4
}
